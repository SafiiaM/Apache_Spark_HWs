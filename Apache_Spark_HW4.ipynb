{
  "nbformat": 4,
  "nbformat_minor": 0,
  "metadata": {
    "colab": {
      "provenance": []
    },
    "kernelspec": {
      "name": "python3",
      "display_name": "Python 3"
    },
    "language_info": {
      "name": "python"
    }
  },
  "cells": [
    {
      "cell_type": "markdown",
      "source": [
        "# Урок 4. Изучение Spark Structure Streaming\n",
        "**Условие**: используйте источник rate, напишите код, который создаст дополнительный столбец, который будет выводить сумму только нечётных чисел."
      ],
      "metadata": {
        "id": "QiEA6BzN0Jgj"
      }
    },
    {
      "cell_type": "markdown",
      "source": [
        "*Не сразу поняла,что среда не выводит результат в консоль. Добавила чтение данных из памяти*"
      ],
      "metadata": {
        "id": "N4lSpjK_l9Xn"
      }
    },
    {
      "cell_type": "code",
      "execution_count": null,
      "metadata": {
        "id": "pUKq2rb-UBvX"
      },
      "outputs": [],
      "source": [
        "#будет скрыта установка\n",
        "!pip install pyspark >> None\n"
      ]
    },
    {
      "cell_type": "code",
      "source": [
        "from pyspark.sql import SparkSession\n",
        "from pyspark.sql.functions import col, sum as spark_sum\n",
        "\n",
        "# Инициализация Spark сессии\n",
        "spark = SparkSession.builder.appName(\"SumOddNumbers\").getOrCreate()\n",
        "\n",
        "# Чтение данных из источника \"rate\"\n",
        "df = spark.readStream.format(\"rate\").load()\n",
        "\n",
        "# Фильтрация нечетных чисел\n",
        "df_odd = df.filter(col(\"value\") % 2 == 1)\n",
        "\n",
        "# Подсчет суммы нечетных чисел\n",
        "df_odd_sum = df_odd.groupBy().agg(spark_sum(\"value\").alias(\"odd_sum\"))\n",
        "\n",
        "# Вывод результатов в консоль\n",
        "query = df_odd_sum.writeStream.outputMode(\"update\").format(\"console\").start()\n",
        "\n",
        "# Функция для остановки стриминга и завершения сессии\n",
        "def stop_streaming():\n",
        "    query.stop()\n",
        "    spark.stop()\n",
        "\n",
        "try:\n",
        "    # Ожидание завершения записи (ограниченное по времени)\n",
        "    query.awaitTermination(60)  # Ждём 60 секунд\n",
        "except KeyboardInterrupt:\n",
        "    print(\"Streaming interrupted. Stopping the query and Spark session.\")\n",
        "    stop_streaming()\n",
        "except Exception as e:\n",
        "    print(f\"An error occurred: {e}\")\n",
        "    stop_streaming()\n",
        "finally:\n",
        "    stop_streaming()\n"
      ],
      "metadata": {
        "id": "Xtw7dnE9ypgW"
      },
      "execution_count": null,
      "outputs": []
    },
    {
      "cell_type": "code",
      "source": [
        "from pyspark.sql import SparkSession\n",
        "from pyspark.sql.functions import col, sum as spark_sum, count\n",
        "import time\n",
        "\n",
        "# Создаем SparkSession\n",
        "spark = SparkSession.builder.appName(\"SumOddNumbers\").getOrCreate()\n",
        "\n",
        "# Создаем поток данных с использованием источника `rate`\n",
        "streaming_df = spark.readStream.format(\"rate\").option(\"rowsPerSecond\", 10).load()\n",
        "\n",
        "# Оставляем только те строки, где значение нечетное\n",
        "filtered_df = streaming_df.filter(col(\"value\") % 2 == 1)\n",
        "\n",
        "# Подсчет суммы нечетных значений и количества строк\n",
        "sum_odds = filtered_df.agg(\n",
        "    spark_sum(\"value\").alias(\"odd_sum\"),\n",
        "    count(\"value\").alias(\"odd_count\")\n",
        ")\n",
        "\n",
        "# Записываем поток данных в память\n",
        "query = sum_odds.writeStream.outputMode(\"complete\").format(\"memory\").queryName(\"oddSumStream\").start()\n",
        "\n",
        "# Ожидание завершения записи в течение 10 секунд\n",
        "time.sleep(10)\n",
        "\n",
        "# Останавливаем поток\n",
        "query.stop()\n",
        "\n",
        "# Чтение данных из памяти!!!\n",
        "odd_sum_data = spark.sql(\"SELECT * FROM oddSumStream\")\n",
        "odd_sum_data.show()\n",
        "\n",
        "# Остановить SparkSession\n",
        "spark.stop()\n"
      ],
      "metadata": {
        "colab": {
          "base_uri": "https://localhost:8080/"
        },
        "id": "mg7WsEPRjtwm",
        "outputId": "bea70805-a0ff-47b0-c151-5d967dcc4c40"
      },
      "execution_count": null,
      "outputs": [
        {
          "output_type": "stream",
          "name": "stdout",
          "text": [
            "+-------+---------+\n",
            "|odd_sum|odd_count|\n",
            "+-------+---------+\n",
            "|   2025|       45|\n",
            "+-------+---------+\n",
            "\n"
          ]
        }
      ]
    }
  ]
}