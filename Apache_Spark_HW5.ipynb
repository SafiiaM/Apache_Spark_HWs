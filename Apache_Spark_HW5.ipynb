{
  "nbformat": 4,
  "nbformat_minor": 0,
  "metadata": {
    "colab": {
      "provenance": []
    },
    "kernelspec": {
      "name": "python3",
      "display_name": "Python 3"
    },
    "language_info": {
      "name": "python"
    }
  },
  "cells": [
    {
      "cell_type": "markdown",
      "source": [
        "# Урок 5. Spark on scala\n",
        "**Условие**: создайте csv файл с таким содержимым:\n",
        "\n",
        "title,author,genre,sales,year\n",
        "\n",
        "\"1984\", \"George Orwell\", \"Science Fiction\", 5000, 1949\n",
        "\n",
        "\"The Lord of the Rings\", \"J.R.R. Tolkien\", \"Fantasy\", 3000, 1954\n",
        "\n",
        "\"To Kill a Mockingbird\", \"Harper Lee\", \"Southern Gothic\", 4000, 1960\n",
        "\n",
        "\"The Catcher in the Rye\", \"J.D. Salinger\", \"Novel\", 2000, 1951\n",
        "\n",
        "\"The Great Gatsby\", \"F. Scott Fitzgerald\", \"Novel\", 4500, 1925\n",
        "\n",
        "**Задание**:\n",
        "\n",
        "— Используя Spark прочитайте данные из файла csv.\n",
        "— Фильтруйте данные, чтобы оставить только книги, продажи которых превышают 3000 экземпляров.\n",
        "— Сгруппируйте данные по жанру и вычислите общий объем продаж для каждого жанра.\n",
        "— Отсортируйте данные по общему объему продаж в порядке убывания.\n",
        "— Выведите результаты на экран."
      ],
      "metadata": {
        "id": "bUUSY0oMwgPS"
      }
    },
    {
      "cell_type": "code",
      "execution_count": 1,
      "metadata": {
        "id": "18B1WS1lwap1"
      },
      "outputs": [],
      "source": [
        "!pip install pyspark >> None"
      ]
    },
    {
      "cell_type": "code",
      "source": [
        "from pyspark.sql import SparkSession\n",
        "from pyspark.sql.window import Window\n",
        "import pyspark.sql.functions as fn\n",
        "from pyspark.sql.types import DoubleType"
      ],
      "metadata": {
        "id": "VTbyTOHoyYam"
      },
      "execution_count": 2,
      "outputs": []
    },
    {
      "cell_type": "code",
      "source": [
        "# Создание Spark сессии\n",
        "spark = SparkSession.builder.appName(\"intermediate certification\").getOrCreate()\n",
        "\n",
        "# Загрузка данных\n",
        "df = spark.read.option(\"header\",True).csv(\"books.csv\")\n",
        "print(\"Исходный датасет:\")\n",
        "df.show()\n",
        "\n",
        "# Фильтрация данных, чтобы оставить только книги, продажи которых превышают 3000 экземпляров\n",
        "filtered_df = df.filter(df.sales > 3000)\n",
        "print(\"Фильтрация по продажам (более 3000 экземпляров):\")\n",
        "filtered_df.show()\n",
        "\n",
        "# Группировка данных по жанру и вычисление общего объема продаж для каждого жанра\n",
        "window_spec = Window.partitionBy(\"genre\")\n",
        "sum_sales_by_genre = fn.sum(\"sales\").over(window_spec)\n",
        "sum_sales_by_genre_df = df.withColumn(\"sum_sales_by_genre\", sum_sales_by_genre)\n",
        "\n",
        "# Сортировка данных по общему объему продаж в порядке убывания и вывод результатов:\n",
        "print(\"Общие объемы продаж по жанрам в порядке убывания:\")\n",
        "sum_sales_by_genre_df.select([\"genre\", \"sum_sales_by_genre\"]).distinct() \\\n",
        "    .orderBy(sum_sales_by_genre_df.sum_sales_by_genre.desc()).show()"
      ],
      "metadata": {
        "colab": {
          "base_uri": "https://localhost:8080/"
        },
        "id": "0Oi9OZG3wt6f",
        "outputId": "f9a91217-1431-4886-b3b9-c73708e0b3fc"
      },
      "execution_count": 5,
      "outputs": [
        {
          "output_type": "stream",
          "name": "stdout",
          "text": [
            "Исходный датасет:\n",
            "+--------------------+--------------------+--------------------+-----+------+\n",
            "|               title|              author|               genre|sales|  year|\n",
            "+--------------------+--------------------+--------------------+-----+------+\n",
            "|           \"\"\"1984\"\"|   \"\"George Orwell\"\"| \"\"Science Fiction\"\"| 5000| 1949\"|\n",
            "|\"\"\"The Lord of th...|  \"\"J.R.R. Tolkien\"\"|         \"\"Fantasy\"\"| 3000| 1954\"|\n",
            "|\"\"\"To Kill a Mock...|      \"\"Harper Lee\"\"| \"\"Southern Gothic\"\"| 4000| 1960\"|\n",
            "|\"\"\"The Catcher in...|   \"\"J.D. Salinger\"\"|           \"\"Novel\"\"| 2000| 1951\"|\n",
            "|\"\"\"The Great Gats...| \"\"F. Scott Fitzg...|           \"\"Novel\"\"| 4500| 1925\"|\n",
            "+--------------------+--------------------+--------------------+-----+------+\n",
            "\n",
            "Фильтрация по продажам (более 3000 экземпляров):\n",
            "+--------------------+--------------------+--------------------+-----+------+\n",
            "|               title|              author|               genre|sales|  year|\n",
            "+--------------------+--------------------+--------------------+-----+------+\n",
            "|           \"\"\"1984\"\"|   \"\"George Orwell\"\"| \"\"Science Fiction\"\"| 5000| 1949\"|\n",
            "|\"\"\"To Kill a Mock...|      \"\"Harper Lee\"\"| \"\"Southern Gothic\"\"| 4000| 1960\"|\n",
            "|\"\"\"The Great Gats...| \"\"F. Scott Fitzg...|           \"\"Novel\"\"| 4500| 1925\"|\n",
            "+--------------------+--------------------+--------------------+-----+------+\n",
            "\n",
            "Общие объемы продаж по жанрам в порядке убывания:\n",
            "+--------------------+------------------+\n",
            "|               genre|sum_sales_by_genre|\n",
            "+--------------------+------------------+\n",
            "|           \"\"Novel\"\"|            6500.0|\n",
            "| \"\"Science Fiction\"\"|            5000.0|\n",
            "| \"\"Southern Gothic\"\"|            4000.0|\n",
            "|         \"\"Fantasy\"\"|            3000.0|\n",
            "+--------------------+------------------+\n",
            "\n"
          ]
        }
      ]
    }
  ]
}